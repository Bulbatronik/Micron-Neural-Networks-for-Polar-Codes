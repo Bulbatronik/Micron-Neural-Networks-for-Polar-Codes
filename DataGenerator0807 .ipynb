{
 "cells": [
  {
   "cell_type": "markdown",
   "id": "b3531cde",
   "metadata": {},
   "source": [
    "                                                   How to run\n",
    "First you run the cell for the dataset generation, which will save everything in binary \n",
    "Then run cells \"From binary to indexes\" to save everything in the indexes file\n",
    "Each cell requires around 2 min of waiting("
   ]
  },
  {
   "cell_type": "code",
   "execution_count": null,
   "id": "d5882135",
   "metadata": {},
   "outputs": [],
   "source": [
    "import numpy as np\n",
    "np.random.seed(1) # this will fix the seed. (every time the random function will give you the same result, so\n",
    "#the dataset is the same) YOU DON'T HAVE TO RUN IT, ONLY IF YOU WANT"
   ]
  },
  {
   "cell_type": "markdown",
   "id": "f1553f6b",
   "metadata": {},
   "source": [
    "# From binary to indexes"
   ]
  },
  {
   "cell_type": "code",
   "execution_count": 92,
   "id": "c3e47b61",
   "metadata": {},
   "outputs": [],
   "source": [
    "with open(\"binary\"+str(N)+\".txt\") as f:\n",
    "    lines = f.readlines()"
   ]
  },
  {
   "cell_type": "code",
   "execution_count": 35,
   "id": "27e0217d",
   "metadata": {},
   "outputs": [
    {
     "data": {
      "text/plain": [
       "25000"
      ]
     },
     "execution_count": 35,
     "metadata": {},
     "output_type": "execute_result"
    }
   ],
   "source": [
    "len(lines)"
   ]
  },
  {
   "cell_type": "code",
   "execution_count": 93,
   "id": "6214cda6",
   "metadata": {},
   "outputs": [],
   "source": [
    "# frozen bits correspond to 1 !!!\n",
    "\n",
    "# extract positions from the binary representation\n",
    "import numpy as np\n",
    "\n",
    "lines_num = len(lines) # how many lines from the dataset are needed ALL->lines_num = len(lines)\n",
    "digits = []\n",
    "\n",
    "for i in range(lines_num):\n",
    "    code = np.array([int(s) for s in lines[i].split() if s.isdigit()])# ignore delimeters and save as an array\n",
    "    \n",
    "    frozen_pos = np.where(np.array(code) != 0)[0] \n",
    "    info_pos = np.where(np.array(code) == 0)[0]\n",
    "    \n",
    "    bits_list = info_pos.tolist() + frozen_pos.tolist() # first half is info, the other is frozen\n",
    "    #bits_list = info_pos.tolist() + [\"||\"] + frozen_pos.tolist()\n",
    "    \n",
    "    textfile = open(\"indexes\"+str(N)+\".txt\", \"a\")\n",
    "    for element in bits_list:\n",
    "        textfile.write(str(element) + \" \")\n",
    "    textfile.write(\"\\n\")\n",
    "    \n",
    "textfile.close()\n",
    "    "
   ]
  },
  {
   "cell_type": "markdown",
   "id": "c1c77180",
   "metadata": {},
   "source": [
    "# From indexes to binary"
   ]
  },
  {
   "cell_type": "code",
   "execution_count": 3,
   "id": "3af9d3e5",
   "metadata": {},
   "outputs": [],
   "source": [
    "with open(\"indexes\"+str(N)+\".txt\") as f:#dataset with info(first half) and frozen(second half)\n",
    "    lines = f.readlines()"
   ]
  },
  {
   "cell_type": "code",
   "execution_count": 4,
   "id": "fbe17267",
   "metadata": {},
   "outputs": [],
   "source": [
    "import numpy as np\n",
    "\n",
    "N = 256\n",
    "\n",
    "for i in range(len(lines)):\n",
    "    code = np.array([int(s) for s in lines[i].split() if s.isdigit()])# ignore delimiters and save as an array\n",
    "    \n",
    "    \n",
    "    info_pos = code[0:int(N/2)] # first half is info\n",
    "    arr = np.ones(N, dtype=int)\n",
    "    arr[info_pos] = 0 # info correspond to 0\n",
    "    \n",
    "    bits_list = arr.tolist()\n",
    "    \n",
    "    textfile = open(\"binary\"+str(N)+\".txt\", \"a\")\n",
    "    for element in bits_list:\n",
    "        textfile.write(str(element) + \" \")\n",
    "    textfile.write(\"\\n\")\n",
    "    \n",
    "textfile.close()"
   ]
  },
  {
   "cell_type": "markdown",
   "id": "07c26cdb",
   "metadata": {},
   "source": [
    "# Dataset generation from mat file\n"
   ]
  },
  {
   "cell_type": "code",
   "execution_count": 1,
   "id": "acca3367",
   "metadata": {},
   "outputs": [],
   "source": [
    "###########################################\n",
    "import scipy.io\n",
    "import numpy as np\n",
    "\n",
    "N = 1024\n",
    "\n",
    "name = 'N'+str(N)+'_frozenSet_GaussianApprox_v3.mat'\n",
    "m = scipy.io.loadmat(name)[\"err_prob\"] \n",
    "mat = m.T[0]\n",
    "\n",
    "indexes = np.argsort(mat) #from the most reliable to the least"
   ]
  },
  {
   "cell_type": "code",
   "execution_count": 4,
   "id": "63332e5c",
   "metadata": {},
   "outputs": [
    {
     "data": {
      "text/plain": [
       "array([5.00000000e-001, 5.00000000e-001, 5.00000000e-001, ...,\n",
       "       4.72110911e-209, 4.75269888e-111, 0.00000000e+000])"
      ]
     },
     "execution_count": 4,
     "metadata": {},
     "output_type": "execute_result"
    }
   ],
   "source": [
    "mat"
   ]
  },
  {
   "cell_type": "code",
   "execution_count": 3,
   "id": "2b6e4f3a",
   "metadata": {},
   "outputs": [
    {
     "data": {
      "text/plain": [
       "array([1023, 1021, 1019, ...,  160,  134,    0], dtype=int64)"
      ]
     },
     "execution_count": 3,
     "metadata": {},
     "output_type": "execute_result"
    }
   ],
   "source": [
    "indexes"
   ]
  },
  {
   "cell_type": "code",
   "execution_count": 6,
   "id": "713238ac",
   "metadata": {},
   "outputs": [
    {
     "name": "stdout",
     "output_type": "stream",
     "text": [
      "18999\n"
     ]
    }
   ],
   "source": [
    "size = 19*(10**3)\n",
    "\n",
    "r = 64 # permutation range\n",
    "\n",
    "filename = \"binary\"+str(N)+\"_with_duplicates.txt\"\n",
    "\n",
    "for k in range(size):\n",
    "    \n",
    "    if k == 0: # first sample is GA \n",
    "        binary = np.ones(N, dtype = int)\n",
    "        binary[(np.array(indexes[0:int(N/2)]))] = 0 #info bits ->0\n",
    "        bits_list = binary.tolist()\n",
    "        \n",
    "        textfile = open(filename, \"a\")\n",
    "        for element in bits_list:\n",
    "            textfile.write(str(element) + \" \")\n",
    "        textfile.write(\"\\n\")\n",
    "        continue\n",
    "    \n",
    "    temp = indexes.copy()\n",
    "    np.random.shuffle(temp[N//2-r:N//2+r])\n",
    "    binary = np.ones(N, dtype = int)\n",
    "    binary[(np.array(temp[0:int(N/2)]))] = 0\n",
    "    \n",
    "    bits_list = binary.tolist()\n",
    "    \n",
    "    textfile = open(filename, \"a\")\n",
    "    for element in bits_list:\n",
    "        textfile.write(str(element) + \" \")\n",
    "    textfile.write(\"\\n\") \n",
    "    #print(k)\n",
    "    \n",
    "num_lines = sum(1 for line in open(filename))\n",
    "\n",
    "print(num_lines)\n",
    "textfile.close()"
   ]
  },
  {
   "cell_type": "code",
   "execution_count": 7,
   "id": "cf9a1c3e",
   "metadata": {},
   "outputs": [
    {
     "name": "stdout",
     "output_type": "stream",
     "text": [
      "Unique rows: 19000\n"
     ]
    }
   ],
   "source": [
    "#check # of unique\n",
    "from collections import OrderedDict\n",
    "\n",
    "seen = OrderedDict()\n",
    "for line in open(filename):\n",
    "    line = line.strip() #remove ' '\n",
    "    seen[line] = seen.get(line, 0) + 1\n",
    "\n",
    "#print(\"\\n\".join([k for k,v in seen.items() if v == 1]))\n",
    "print(\"Unique rows: \"+str(len(seen)))"
   ]
  },
  {
   "cell_type": "code",
   "execution_count": 24,
   "id": "26e96375",
   "metadata": {},
   "outputs": [
    {
     "name": "stdout",
     "output_type": "stream",
     "text": [
      "18996\n"
     ]
    }
   ],
   "source": [
    "# clean file\n",
    "openFile = open(filename, \"r\") \n",
    "writeFile = open(\"binary\"+str(N)+\".txt\", \"w\") \n",
    "#Store traversed lines\n",
    "tmp = set() \n",
    "for txtLine in openFile: \n",
    "#Check new line\n",
    "    if txtLine not in tmp: \n",
    "        writeFile.write(txtLine) \n",
    "#Add new traversed line to tmp \n",
    "        tmp.add(txtLine)\n",
    "    \n",
    "num_lines = sum(1 for line in open(\"binary\"+str(N)+\".txt\"))\n",
    "\n",
    "print(num_lines)    \n",
    "openFile.close() \n",
    "writeFile.close()"
   ]
  },
  {
   "cell_type": "markdown",
   "id": "fd7913f4",
   "metadata": {},
   "source": [
    "#  Gaussian approximation (if you need just it in the file)\n"
   ]
  },
  {
   "cell_type": "code",
   "execution_count": 37,
   "id": "0d9264b9",
   "metadata": {},
   "outputs": [],
   "source": [
    "import scipy.io\n",
    "import numpy as np\n",
    "\n",
    "N = 256 #64#256 #1024  \n",
    "name = 'N'+str(N)+'_frozenSet_GaussianApprox.mat'\n",
    "m = scipy.io.loadmat(name)[\"indexes\"] #save the frozen bits\n",
    "mat = m.T[0] - 1\n",
    "\n",
    "#frozen_pos = mat.tolist() #wrong\n",
    "info_pos = mat.tolist()\n",
    "\n",
    "arr = np.arange(0, N)\n",
    "# info_pos = arr.tolist() #wrong\n",
    "frozen_pos = arr.tolist()\n",
    "\n",
    "#for i in frozen_pos: #wrong\n",
    "#    info_pos.remove(i)\n",
    "#frozen_pos.sort()\n",
    "\n",
    "for i in info_pos:\n",
    "    frozen_pos.remove(i)\n",
    "info_pos.sort()"
   ]
  },
  {
   "cell_type": "code",
   "execution_count": 38,
   "id": "dc6c9e1f",
   "metadata": {},
   "outputs": [],
   "source": [
    "#create an array of zeroes and ones \n",
    "binary = np.zeros(N, dtype = int)\n",
    "binary[(np.array(frozen_pos))] = 1 # frozen bits correspond to 1 !!!"
   ]
  },
  {
   "cell_type": "code",
   "execution_count": 39,
   "id": "98195a78",
   "metadata": {},
   "outputs": [],
   "source": [
    "filename = \"GA_\"+str(N)+\"_binary.txt\"\n",
    "\n",
    "bits_list = binary.tolist()\n",
    "    \n",
    "textfile = open(filename, \"a\")\n",
    "for element in bits_list:\n",
    "    textfile.write(str(element) + \" \")\n",
    "    \n",
    "textfile.close()"
   ]
  },
  {
   "cell_type": "code",
   "execution_count": 40,
   "id": "8b6015fb",
   "metadata": {},
   "outputs": [],
   "source": [
    "with open('GA_'+str(N)+'_binary.txt') as f:\n",
    "    lines = f.readlines()\n",
    "    \n",
    "lines_num = 1 # how many lines from the dataset are needed\n",
    "digits = []\n",
    "\n",
    "for i in range(lines_num):\n",
    "    code = np.array([int(s) for s in lines[i].split() if s.isdigit()])# ignore delimeters and save as an array\n",
    "    \n",
    "    frozen_pos = np.where(np.array(code) != 0)[0] # not to start from zero\n",
    "    info_pos = np.where(np.array(code) == 0)[0]\n",
    "    \n",
    "    bits_list = info_pos.tolist() + frozen_pos.tolist() # first half is info, the other is frozen\n",
    "    #bits_list = info_pos.tolist() + [\"||\"] + frozen_pos.tolist()\n",
    "    \n",
    "    textfile = open(\"GA_\"+str(N)+\"_indexes.txt\", \"a\")\n",
    "    for element in bits_list:\n",
    "        textfile.write(str(element) + \" \")\n",
    "    textfile.write(\"\\n\")\n",
    "    \n",
    "textfile.close()"
   ]
  },
  {
   "cell_type": "code",
   "execution_count": 90,
   "id": "6277f6b4",
   "metadata": {},
   "outputs": [
    {
     "data": {
      "text/plain": [
       "25000"
      ]
     },
     "execution_count": 90,
     "metadata": {},
     "output_type": "execute_result"
    }
   ],
   "source": [
    "num_lines = sum(1 for line in open(filename))\n",
    "num_lines"
   ]
  }
 ],
 "metadata": {
  "kernelspec": {
   "display_name": "Python 3 (ipykernel)",
   "language": "python",
   "name": "python3"
  },
  "language_info": {
   "codemirror_mode": {
    "name": "ipython",
    "version": 3
   },
   "file_extension": ".py",
   "mimetype": "text/x-python",
   "name": "python",
   "nbconvert_exporter": "python",
   "pygments_lexer": "ipython3",
   "version": "3.9.7"
  }
 },
 "nbformat": 4,
 "nbformat_minor": 5
}
